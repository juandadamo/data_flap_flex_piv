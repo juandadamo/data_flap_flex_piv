{
 "cells": [
  {
   "cell_type": "code",
   "execution_count": 12,
   "id": "97f5fc6c-2c97-474f-94fb-3816f974f882",
   "metadata": {
    "slideshow": {
     "slide_type": "skip"
    },
    "tags": []
   },
   "outputs": [],
   "source": [
    "%reload_ext autoreload\n",
    "import pylab, socket\n",
    "import numpy as np\n",
    "import matplotlib.pyplot as plt\n",
    "import glob,os,sys\n",
    "sys.path.insert(0, '../sistdinamicos')\n",
    "from scipy.signal import medfilt,medfilt2d,correlate2d as corr2\n",
    "import scipy\n",
    "from sklearn import cluster\n",
    "from tikzplotlib import save as tikz_save\n",
    "import sympy as sp\n",
    "from  IPython.display import display, Latex"
   ]
  },
  {
   "cell_type": "markdown",
   "id": "03326d89-171a-44a7-bc9d-ff1126e202e6",
   "metadata": {
    "slideshow": {
     "slide_type": "slide"
    },
    "tags": []
   },
   "source": [
    "# Revisiting Karman vortex model for estimating drag in non-stationary non viscous flow\n",
    "\\begin{equation}\n",
    "ρ Γh/T + \\frac{ρ Γ^2}{(2\\pi l)}\\left(1-\\pi (h/l)\\tanh\\left(\\pi h/l\\right)\\right)\n",
    "\\end{equation}"
   ]
  },
  {
   "cell_type": "markdown",
   "id": "b8d07c7b",
   "metadata": {
    "slideshow": {
     "slide_type": "slide"
    }
   },
   "source": []
  },
  {
   "cell_type": "code",
   "execution_count": 32,
   "id": "9e10b574-3d56-4c37-bcae-a24aba2a2207",
   "metadata": {
    "slideshow": {
     "slide_type": "subslide"
    }
   },
   "outputs": [],
   "source": [
    "ρ,Γ,h,l,T = sp.symbols('ρ Γ h l T',real=True)\n",
    "Fd = ρ*Γ*h/T + ρ*Γ**2/(2*sp.pi*l)*(1-sp.pi*h/l*sp.tanh(sp.pi*h/l))\n",
    "Fdtext= \"$${} = {}$$\".format(sp.latex(Fd), sp.latex(Fd.doit()))"
   ]
  },
  {
   "cell_type": "code",
   "execution_count": 35,
   "id": "596a910e-6f02-417a-9413-df0e5f084982",
   "metadata": {},
   "outputs": [
    {
     "data": {
      "text/latex": [
       "$\\displaystyle \\frac{Γ^{2} ρ \\left(- \\frac{\\pi h \\tanh{\\left(\\frac{\\pi h}{l} \\right)}}{l} + 1\\right)}{2 \\pi l} + \\frac{h Γ ρ}{T}$"
      ],
      "text/plain": [
       "Γ**2*ρ*(-pi*h*tanh(pi*h/l)/l + 1)/(2*pi*l) + h*Γ*ρ/T"
      ]
     },
     "metadata": {},
     "output_type": "display_data"
    }
   ],
   "source": [
    "display(Fd)"
   ]
  },
  {
   "cell_type": "code",
   "execution_count": 38,
   "id": "d5ac4796-9f9e-4fe3-a6f1-bf45ab166c9d",
   "metadata": {},
   "outputs": [],
   "source": [
    "f1 = 1j*Γ**2/(sp.pi*l)*(1+sp.tanh(sp.pi*h/l)*(-sp.pi*1j/2-sp.pi*h/l))\n",
    "f2 = Γ*ρ*h/T\n",
    "Fd = f1+f2"
   ]
  },
  {
   "cell_type": "code",
   "execution_count": 37,
   "id": "a6b95cca-f334-49c5-9162-2a6ad009c872",
   "metadata": {},
   "outputs": [
    {
     "data": {
      "text/latex": [
       "$\\displaystyle \\frac{0.5 Γ^{2} \\sinh{\\left(\\frac{\\pi h}{l} \\right)} \\cosh{\\left(\\frac{\\pi h}{l} \\right)}}{l \\left(\\sinh^{2}{\\left(\\frac{\\pi h}{l} \\right)} + 1\\right)}$"
      ],
      "text/plain": [
       "0.5*Γ**2*sinh(pi*h/l)*cosh(pi*h/l)/(l*(sinh(pi*h/l)**2 + 1))"
      ]
     },
     "execution_count": 37,
     "metadata": {},
     "output_type": "execute_result"
    }
   ],
   "source": [
    "f1.as_real_imag()[0]"
   ]
  },
  {
   "cell_type": "code",
   "execution_count": 34,
   "id": "181439d1-54e3-4815-b7c5-1eeec4687a7f",
   "metadata": {},
   "outputs": [
    {
     "data": {
      "text/plain": [
       "(0, 1.0*Γ)"
      ]
     },
     "execution_count": 34,
     "metadata": {},
     "output_type": "execute_result"
    }
   ],
   "source": [
    "(1j*Γ).as_real_imag()"
   ]
  },
  {
   "cell_type": "code",
   "execution_count": null,
   "id": "3f6bcc34-9f82-4045-a628-38c6ab6e07be",
   "metadata": {},
   "outputs": [],
   "source": []
  }
 ],
 "metadata": {
  "celltoolbar": "Slideshow",
  "kernelspec": {
   "display_name": "Python 3 (ipykernel)",
   "language": "python",
   "name": "python3"
  },
  "language_info": {
   "codemirror_mode": {
    "name": "ipython",
    "version": 3
   },
   "file_extension": ".py",
   "mimetype": "text/x-python",
   "name": "python",
   "nbconvert_exporter": "python",
   "pygments_lexer": "ipython3",
   "version": "3.10.9"
  }
 },
 "nbformat": 4,
 "nbformat_minor": 5
}
